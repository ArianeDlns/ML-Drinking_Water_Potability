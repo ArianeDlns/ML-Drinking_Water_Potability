{
 "cells": [
  {
   "cell_type": "code",
   "execution_count": 1,
   "id": "1e87e6dc",
   "metadata": {},
   "outputs": [
    {
     "data": {
      "text/html": [
       "<style>.container { width:100% !important; }</style>"
      ],
      "text/plain": [
       "<IPython.core.display.HTML object>"
      ]
     },
     "metadata": {},
     "output_type": "display_data"
    }
   ],
   "source": [
    "# Set full width on jupyter notebook navigator\n",
    "from IPython.core.display import HTML, display\n",
    "\n",
    "display(HTML(\"<style>.container { width:100% !important; }</style>\"))"
   ]
  },
  {
   "cell_type": "code",
   "execution_count": 2,
   "id": "7564b51b",
   "metadata": {},
   "outputs": [],
   "source": [
    "# For dark mode only, font in white\n",
    "import matplotlib as mpl\n",
    "\"\"\"\n",
    "mpl.rcParams.update(\n",
    "    {\"axes.labelcolor\": \"white\", \"xtick.color\": \"white\", \"ytick.color\": \"white\"}\n",
    ")\"\"\";"
   ]
  },
  {
   "cell_type": "markdown",
   "id": "736b0719",
   "metadata": {},
   "source": [
    "# Pipeline"
   ]
  },
  {
   "cell_type": "code",
   "execution_count": 3,
   "id": "ecdea041",
   "metadata": {},
   "outputs": [],
   "source": [
    "import matplotlib.pyplot as plt\n",
    "import numpy as np\n",
    "import pandas as pd\n",
    "import seaborn as sns\n",
    "from sklearn.model_selection import train_test_split\n",
    "from tqdm import tqdm"
   ]
  },
  {
   "cell_type": "code",
   "execution_count": 4,
   "id": "1dea7080",
   "metadata": {},
   "outputs": [
    {
     "data": {
      "text/html": [
       "<div>\n",
       "<style scoped>\n",
       "    .dataframe tbody tr th:only-of-type {\n",
       "        vertical-align: middle;\n",
       "    }\n",
       "\n",
       "    .dataframe tbody tr th {\n",
       "        vertical-align: top;\n",
       "    }\n",
       "\n",
       "    .dataframe thead th {\n",
       "        text-align: right;\n",
       "    }\n",
       "</style>\n",
       "<table border=\"1\" class=\"dataframe\">\n",
       "  <thead>\n",
       "    <tr style=\"text-align: right;\">\n",
       "      <th></th>\n",
       "      <th>ph</th>\n",
       "      <th>Hardness</th>\n",
       "      <th>Solids</th>\n",
       "      <th>Chloramines</th>\n",
       "      <th>Sulfate</th>\n",
       "      <th>Conductivity</th>\n",
       "      <th>Organic_carbon</th>\n",
       "      <th>Trihalomethanes</th>\n",
       "      <th>Turbidity</th>\n",
       "      <th>Potability</th>\n",
       "    </tr>\n",
       "  </thead>\n",
       "  <tbody>\n",
       "    <tr>\n",
       "      <th>0</th>\n",
       "      <td>NaN</td>\n",
       "      <td>204.890456</td>\n",
       "      <td>20791.31898</td>\n",
       "      <td>7.300212</td>\n",
       "      <td>368.516441</td>\n",
       "      <td>564.308654</td>\n",
       "      <td>10.379783</td>\n",
       "      <td>86.990970</td>\n",
       "      <td>2.963135</td>\n",
       "      <td>0</td>\n",
       "    </tr>\n",
       "    <tr>\n",
       "      <th>1</th>\n",
       "      <td>3.716080</td>\n",
       "      <td>129.422921</td>\n",
       "      <td>18630.05786</td>\n",
       "      <td>6.635246</td>\n",
       "      <td>NaN</td>\n",
       "      <td>592.885359</td>\n",
       "      <td>15.180013</td>\n",
       "      <td>56.329076</td>\n",
       "      <td>4.500656</td>\n",
       "      <td>0</td>\n",
       "    </tr>\n",
       "    <tr>\n",
       "      <th>2</th>\n",
       "      <td>8.099124</td>\n",
       "      <td>224.236259</td>\n",
       "      <td>19909.54173</td>\n",
       "      <td>9.275884</td>\n",
       "      <td>NaN</td>\n",
       "      <td>418.606213</td>\n",
       "      <td>16.868637</td>\n",
       "      <td>66.420093</td>\n",
       "      <td>3.055934</td>\n",
       "      <td>0</td>\n",
       "    </tr>\n",
       "    <tr>\n",
       "      <th>3</th>\n",
       "      <td>8.316766</td>\n",
       "      <td>214.373394</td>\n",
       "      <td>22018.41744</td>\n",
       "      <td>8.059332</td>\n",
       "      <td>356.886136</td>\n",
       "      <td>363.266516</td>\n",
       "      <td>18.436525</td>\n",
       "      <td>100.341674</td>\n",
       "      <td>4.628771</td>\n",
       "      <td>0</td>\n",
       "    </tr>\n",
       "    <tr>\n",
       "      <th>4</th>\n",
       "      <td>9.092223</td>\n",
       "      <td>181.101509</td>\n",
       "      <td>17978.98634</td>\n",
       "      <td>6.546600</td>\n",
       "      <td>310.135738</td>\n",
       "      <td>398.410813</td>\n",
       "      <td>11.558279</td>\n",
       "      <td>31.997993</td>\n",
       "      <td>4.075075</td>\n",
       "      <td>0</td>\n",
       "    </tr>\n",
       "  </tbody>\n",
       "</table>\n",
       "</div>"
      ],
      "text/plain": [
       "         ph    Hardness       Solids  Chloramines     Sulfate  Conductivity  \\\n",
       "0       NaN  204.890456  20791.31898     7.300212  368.516441    564.308654   \n",
       "1  3.716080  129.422921  18630.05786     6.635246         NaN    592.885359   \n",
       "2  8.099124  224.236259  19909.54173     9.275884         NaN    418.606213   \n",
       "3  8.316766  214.373394  22018.41744     8.059332  356.886136    363.266516   \n",
       "4  9.092223  181.101509  17978.98634     6.546600  310.135738    398.410813   \n",
       "\n",
       "   Organic_carbon  Trihalomethanes  Turbidity  Potability  \n",
       "0       10.379783        86.990970   2.963135           0  \n",
       "1       15.180013        56.329076   4.500656           0  \n",
       "2       16.868637        66.420093   3.055934           0  \n",
       "3       18.436525       100.341674   4.628771           0  \n",
       "4       11.558279        31.997993   4.075075           0  "
      ]
     },
     "execution_count": 4,
     "metadata": {},
     "output_type": "execute_result"
    }
   ],
   "source": [
    "dataset = pd.read_csv(\"./drinking_water_potability.csv\")\n",
    "dataset.head()"
   ]
  },
  {
   "cell_type": "code",
   "execution_count": 5,
   "id": "4b08f502",
   "metadata": {},
   "outputs": [
    {
     "name": "stdout",
     "output_type": "stream",
     "text": [
      "Elements in train: 2457\n",
      "Elements in test : 819\n",
      "0    0.610094\n",
      "1    0.389906\n",
      "Name: Potability, dtype: float64\n",
      "0    0.60928\n",
      "1    0.39072\n",
      "Name: Potability, dtype: float64\n"
     ]
    }
   ],
   "source": [
    "train_set, test_set = train_test_split(\n",
    "    dataset, train_size=0.75, random_state=42, stratify=dataset[\"Potability\"]\n",
    ")\n",
    "\n",
    "target = \"Potability\"\n",
    "feature_names = list(filter(lambda x: x != target, train_set.columns))\n",
    "\n",
    "print(f\"Elements in train: {train_set.shape[0]}\")\n",
    "print(f\"Elements in test : {test_set.shape[0]}\")\n",
    "print(train_set[\"Potability\"].value_counts() / train_set.shape[0])\n",
    "print(test_set[\"Potability\"].value_counts() / test_set.shape[0])"
   ]
  },
  {
   "cell_type": "markdown",
   "id": "2f381dd9",
   "metadata": {},
   "source": [
    "## Removing the outliers before starting"
   ]
  },
  {
   "cell_type": "code",
   "execution_count": 6,
   "id": "22ad777d",
   "metadata": {},
   "outputs": [],
   "source": [
    "from utils import process_remove_outliers_ph\n",
    "\n",
    "processors = [process_remove_outliers_ph]"
   ]
  },
  {
   "cell_type": "code",
   "execution_count": 7,
   "id": "55f4fe20",
   "metadata": {},
   "outputs": [
    {
     "name": "stdout",
     "output_type": "stream",
     "text": [
      "========== TRAIN ==========\n",
      "Initial size: (2457, 10)\n",
      "Apply process_remove_outliers_ph, new size: (2455, 10)\n",
      "\n",
      "\n",
      " ========== TEST ==========\n",
      "Initial size: (819, 10)\n",
      "Apply process_remove_outliers_ph, new size: (818, 10)\n"
     ]
    }
   ],
   "source": [
    "print(\"=\" * 10, \"TRAIN\", \"=\" * 10)\n",
    "print(f\"Initial size: {train_set.shape}\")\n",
    "for processor in processors:\n",
    "    train_set = processor(train_set)\n",
    "    print(f\"Apply {processor.__name__}, new size: {train_set.shape}\")\n",
    "\n",
    "print(\"\\n\" * 2, \"=\" * 10, \"TEST\", \"=\" * 10)\n",
    "print(f\"Initial size: {test_set.shape}\")\n",
    "for processor in processors:\n",
    "    test_set = processor(test_set)\n",
    "    print(f\"Apply {processor.__name__}, new size: {test_set.shape}\")"
   ]
  },
  {
   "cell_type": "markdown",
   "id": "81fd439f",
   "metadata": {
    "lines_to_next_cell": 2
   },
   "source": [
    "## All the transformers and steps of the pipeline"
   ]
  },
  {
   "cell_type": "markdown",
   "id": "2a815f7b",
   "metadata": {},
   "source": [
    "### Definition of the transformer pipeline"
   ]
  },
  {
   "cell_type": "code",
   "execution_count": 8,
   "id": "cefd6a6e",
   "metadata": {},
   "outputs": [],
   "source": [
    "from sklearn.experimental import enable_iterative_imputer\n",
    "from sklearn.impute import IterativeImputer"
   ]
  },
  {
   "cell_type": "code",
   "execution_count": 9,
   "id": "41ca0b62",
   "metadata": {},
   "outputs": [
    {
     "data": {
      "text/plain": [
       "Pipeline(steps=[('Missing_values_handler', IterativeImputer(random_state=0)),\n",
       "                ('Scaler', StandardScaler())])"
      ]
     },
     "execution_count": 9,
     "metadata": {},
     "output_type": "execute_result"
    }
   ],
   "source": [
    "from sklearn.pipeline import Pipeline\n",
    "from sklearn.preprocessing import StandardScaler\n",
    "\n",
    "transformer = Pipeline(\n",
    "    [\n",
    "        (\"Missing_values_handler\", IterativeImputer(max_iter=10, random_state=0)),\n",
    "        (\"Scaler\", StandardScaler()),\n",
    "    ]\n",
    ")\n",
    "transformer"
   ]
  },
  {
   "cell_type": "markdown",
   "id": "c2aeea00",
   "metadata": {},
   "source": [
    "## Models exploration"
   ]
  },
  {
   "cell_type": "code",
   "execution_count": 10,
   "id": "4b32e23d",
   "metadata": {},
   "outputs": [],
   "source": [
    "from sklearn.ensemble import (\n",
    "    AdaBoostClassifier,\n",
    "    ExtraTreesClassifier,\n",
    "    GradientBoostingClassifier,\n",
    "    RandomForestClassifier,\n",
    ")"
   ]
  },
  {
   "cell_type": "code",
   "execution_count": 11,
   "id": "88a2f5ff",
   "metadata": {},
   "outputs": [
    {
     "name": "stderr",
     "output_type": "stream",
     "text": [
      "Training different models:  10%|█         | 1/10 [00:00<00:08,  1.09model/s]/home/marco/centralesupelec/ML/ML-Drinking_Water_Potability/venv/lib/python3.8/site-packages/sklearn/metrics/_classification.py:1308: UndefinedMetricWarning: Precision is ill-defined and being set to 0.0 due to no predicted samples. Use `zero_division` parameter to control this behavior.\n",
      "  _warn_prf(average, modifier, msg_start, len(result))\n",
      "/home/marco/centralesupelec/ML/ML-Drinking_Water_Potability/venv/lib/python3.8/site-packages/sklearn/metrics/_classification.py:1308: UndefinedMetricWarning: Precision is ill-defined and being set to 0.0 due to no predicted samples. Use `zero_division` parameter to control this behavior.\n",
      "  _warn_prf(average, modifier, msg_start, len(result))\n",
      "Training different models: 100%|██████████| 10/10 [00:29<00:00,  2.91s/model]\n"
     ]
    }
   ],
   "source": [
    "from sklearn.linear_model import LogisticRegression\n",
    "from sklearn.metrics import (\n",
    "    accuracy_score,\n",
    "    f1_score,\n",
    "    make_scorer,\n",
    "    precision_score,\n",
    "    recall_score,\n",
    ")\n",
    "from sklearn.model_selection import cross_val_score\n",
    "from sklearn.naive_bayes import GaussianNB\n",
    "from sklearn.neighbors import KNeighborsClassifier\n",
    "from sklearn.svm import SVC\n",
    "from sklearn.tree import DecisionTreeClassifier\n",
    "\n",
    "models = [\n",
    "    DecisionTreeClassifier(max_depth=7),\n",
    "    LogisticRegression(),\n",
    "    SVC(),\n",
    "    KNeighborsClassifier(),\n",
    "    GaussianNB(),\n",
    "    RandomForestClassifier(),\n",
    "    ExtraTreesClassifier(n_estimators=10),\n",
    "    AdaBoostClassifier(),\n",
    "    GradientBoostingClassifier(),\n",
    "    GaussianNB(),\n",
    "]\n",
    "\n",
    "metrics = [accuracy_score, f1_score, precision_score, recall_score]\n",
    "results = []\n",
    "\n",
    "X_train, X_val, y_train, y_val = train_test_split(\n",
    "    train_set[feature_names], train_set[target], train_size=0.8, random_state=20\n",
    ")\n",
    "for model in tqdm(models, desc=\"Training different models\", unit=\"model\"):\n",
    "    scores = {\"name\": model.__class__.__name__}\n",
    "    model = Pipeline([(\"transformer\", transformer), (\"model\", model)])\n",
    "    scores = {\n",
    "        **scores,\n",
    "        **{\n",
    "            \"cv_\"\n",
    "            + func.__name__: np.mean(\n",
    "                cross_val_score(\n",
    "                    model, X_train, y_train, cv=5, scoring=make_scorer(func)\n",
    "                )\n",
    "            )\n",
    "            for func in metrics\n",
    "        },\n",
    "    }\n",
    "    results.append(scores)\n",
    "results_df = pd.DataFrame.from_records(results)"
   ]
  },
  {
   "cell_type": "code",
   "execution_count": 12,
   "id": "d6b6494a",
   "metadata": {},
   "outputs": [
    {
     "data": {
      "text/html": [
       "<div>\n",
       "<style scoped>\n",
       "    .dataframe tbody tr th:only-of-type {\n",
       "        vertical-align: middle;\n",
       "    }\n",
       "\n",
       "    .dataframe tbody tr th {\n",
       "        vertical-align: top;\n",
       "    }\n",
       "\n",
       "    .dataframe thead th {\n",
       "        text-align: right;\n",
       "    }\n",
       "</style>\n",
       "<table border=\"1\" class=\"dataframe\">\n",
       "  <thead>\n",
       "    <tr style=\"text-align: right;\">\n",
       "      <th></th>\n",
       "      <th>name</th>\n",
       "      <th>cv_accuracy_score</th>\n",
       "      <th>cv_f1_score</th>\n",
       "      <th>cv_precision_score</th>\n",
       "      <th>cv_recall_score</th>\n",
       "    </tr>\n",
       "  </thead>\n",
       "  <tbody>\n",
       "    <tr>\n",
       "      <th>2</th>\n",
       "      <td>SVC</td>\n",
       "      <td>0.674646</td>\n",
       "      <td>0.405796</td>\n",
       "      <td>0.681204</td>\n",
       "      <td>0.290066</td>\n",
       "    </tr>\n",
       "    <tr>\n",
       "      <th>1</th>\n",
       "      <td>LogisticRegression</td>\n",
       "      <td>0.617107</td>\n",
       "      <td>0.007895</td>\n",
       "      <td>0.600000</td>\n",
       "      <td>0.003974</td>\n",
       "    </tr>\n",
       "    <tr>\n",
       "      <th>5</th>\n",
       "      <td>RandomForestClassifier</td>\n",
       "      <td>0.658342</td>\n",
       "      <td>0.421135</td>\n",
       "      <td>0.579625</td>\n",
       "      <td>0.333775</td>\n",
       "    </tr>\n",
       "    <tr>\n",
       "      <th>8</th>\n",
       "      <td>GradientBoostingClassifier</td>\n",
       "      <td>0.634941</td>\n",
       "      <td>0.330997</td>\n",
       "      <td>0.554913</td>\n",
       "      <td>0.237086</td>\n",
       "    </tr>\n",
       "    <tr>\n",
       "      <th>4</th>\n",
       "      <td>GaussianNB</td>\n",
       "      <td>0.625258</td>\n",
       "      <td>0.299515</td>\n",
       "      <td>0.532334</td>\n",
       "      <td>0.209272</td>\n",
       "    </tr>\n",
       "    <tr>\n",
       "      <th>9</th>\n",
       "      <td>GaussianNB</td>\n",
       "      <td>0.625258</td>\n",
       "      <td>0.299515</td>\n",
       "      <td>0.532334</td>\n",
       "      <td>0.209272</td>\n",
       "    </tr>\n",
       "    <tr>\n",
       "      <th>6</th>\n",
       "      <td>ExtraTreesClassifier</td>\n",
       "      <td>0.632902</td>\n",
       "      <td>0.330091</td>\n",
       "      <td>0.527141</td>\n",
       "      <td>0.296689</td>\n",
       "    </tr>\n",
       "    <tr>\n",
       "      <th>0</th>\n",
       "      <td>DecisionTreeClassifier</td>\n",
       "      <td>0.625750</td>\n",
       "      <td>0.346133</td>\n",
       "      <td>0.522737</td>\n",
       "      <td>0.263576</td>\n",
       "    </tr>\n",
       "    <tr>\n",
       "      <th>3</th>\n",
       "      <td>KNeighborsClassifier</td>\n",
       "      <td>0.606933</td>\n",
       "      <td>0.402819</td>\n",
       "      <td>0.483773</td>\n",
       "      <td>0.345695</td>\n",
       "    </tr>\n",
       "    <tr>\n",
       "      <th>7</th>\n",
       "      <td>AdaBoostClassifier</td>\n",
       "      <td>0.608967</td>\n",
       "      <td>0.321144</td>\n",
       "      <td>0.481623</td>\n",
       "      <td>0.242384</td>\n",
       "    </tr>\n",
       "  </tbody>\n",
       "</table>\n",
       "</div>"
      ],
      "text/plain": [
       "                         name  cv_accuracy_score  cv_f1_score  \\\n",
       "2                         SVC           0.674646     0.405796   \n",
       "1          LogisticRegression           0.617107     0.007895   \n",
       "5      RandomForestClassifier           0.658342     0.421135   \n",
       "8  GradientBoostingClassifier           0.634941     0.330997   \n",
       "4                  GaussianNB           0.625258     0.299515   \n",
       "9                  GaussianNB           0.625258     0.299515   \n",
       "6        ExtraTreesClassifier           0.632902     0.330091   \n",
       "0      DecisionTreeClassifier           0.625750     0.346133   \n",
       "3        KNeighborsClassifier           0.606933     0.402819   \n",
       "7          AdaBoostClassifier           0.608967     0.321144   \n",
       "\n",
       "   cv_precision_score  cv_recall_score  \n",
       "2            0.681204         0.290066  \n",
       "1            0.600000         0.003974  \n",
       "5            0.579625         0.333775  \n",
       "8            0.554913         0.237086  \n",
       "4            0.532334         0.209272  \n",
       "9            0.532334         0.209272  \n",
       "6            0.527141         0.296689  \n",
       "0            0.522737         0.263576  \n",
       "3            0.483773         0.345695  \n",
       "7            0.481623         0.242384  "
      ]
     },
     "execution_count": 12,
     "metadata": {},
     "output_type": "execute_result"
    }
   ],
   "source": [
    "results_df.sort_values(by=[\"cv_precision_score\"], ascending=False)"
   ]
  },
  {
   "cell_type": "code",
   "execution_count": 13,
   "id": "9c441399",
   "metadata": {},
   "outputs": [
    {
     "data": {
      "text/plain": [
       "<AxesSubplot:xlabel='name'>"
      ]
     },
     "execution_count": 13,
     "metadata": {},
     "output_type": "execute_result"
    },
    {
     "data": {
      "image/png": "[encoded data removed]",
      "text/plain": [
       "<Figure size 432x288 with 1 Axes>"
      ]
     },
     "metadata": {
      "needs_background": "light"
     },
     "output_type": "display_data"
    }
   ],
   "source": [
    "results_df.set_index(\"name\")[\"cv_precision_score\"].sort_values().plot.bar(\n",
    "    ylim=[0, 1], grid=True\n",
    ")"
   ]
  },
  {
   "cell_type": "code",
   "execution_count": 14,
   "id": "a06cd133",
   "metadata": {},
   "outputs": [],
   "source": [
    "X_train, y_train = train_set[feature_names], train_set[target]\n",
    "X_test, y_test = test_set[feature_names], test_set[target]"
   ]
  },
  {
   "cell_type": "markdown",
   "id": "b1bbc8c4",
   "metadata": {},
   "source": [
    "## Training"
   ]
  },
  {
   "cell_type": "code",
   "execution_count": null,
   "id": "3db80550",
   "metadata": {},
   "outputs": [],
   "source": [
    "from sklearn.model_selection import GridSearchCV"
   ]
  },
  {
   "cell_type": "markdown",
   "id": "a5eef2bd",
   "metadata": {},
   "source": [
    "###  Grid search area"
   ]
  },
  {
   "cell_type": "markdown",
   "id": "5035da42",
   "metadata": {},
   "source": [
    "### SVC"
   ]
  },
  {
   "cell_type": "code",
   "execution_count": null,
   "id": "7fa56606",
   "metadata": {},
   "outputs": [],
   "source": [
    "# Train using a grid search to find the best params\n",
    "# For a SVC\n",
    "\n",
    "param_grid = {\n",
    "    \"C\": [0.1, 10, 50, 100],\n",
    "    \"kernel\": [\"linear\", \"poly\", \"sigmoid\", \"rbf\"],\n",
    "    \"class_weight\": [None, \"balanced\"],\n",
    "}\n",
    "param_grid = {\"model__\" + k: v for k, v in param_grid.items()}\n",
    "pipeline_gs = Pipeline([(\"transformer\", transformer), (\"model\", SVC())])\n",
    "print(pipeline_gs.get_params())\n",
    "grid_search = GridSearchCV(\n",
    "    pipeline_gs,\n",
    "    param_grid=param_grid,\n",
    "    cv=5,\n",
    "    verbose=10,\n",
    "    n_jobs=-1,\n",
    "    scoring=[\"f1_weighted\", \"accuracy\", \"average_precision\"],\n",
    "    refit=False,\n",
    ")\n",
    "grid_search.fit(X_train, y_train)"
   ]
  },
  {
   "cell_type": "code",
   "execution_count": null,
   "id": "79158ba2",
   "metadata": {},
   "outputs": [],
   "source": [
    "_ = pd.DataFrame(grid_search.cv_results_)\n",
    "_ = _.sort_values(by=[\"mean_test_average_precision\"], ascending=False).reset_index(\n",
    "    drop=True\n",
    ")\n",
    "_.head()"
   ]
  },
  {
   "cell_type": "code",
   "execution_count": null,
   "id": "45622a56",
   "metadata": {},
   "outputs": [],
   "source": [
    "print(_.loc[1])\n",
    "print(_.at[1, \"params\"])"
   ]
  },
  {
   "cell_type": "code",
   "execution_count": null,
   "id": "5b8e4f9b",
   "metadata": {},
   "outputs": [],
   "source": [
    "print(\n",
    "    \"\"\"For the SVC, after Grid Search, we have the following:\n",
    "mean_fit_time                                                             0.303844\n",
    "std_fit_time                                                              0.021136\n",
    "mean_score_time                                                           0.089625\n",
    "std_score_time                                                             0.00434\n",
    "param_model__C                                                                  10\n",
    "param_model__class_weight                                                     None\n",
    "param_model__kernel                                                            rbf\n",
    "params                           {'model__C': 10, 'model__class_weight': None, ...\n",
    "split0_test_f1_weighted                                                    0.69426\n",
    "split1_test_f1_weighted                                                   0.626988\n",
    "split2_test_f1_weighted                                                   0.647527\n",
    "split3_test_f1_weighted                                                   0.635514\n",
    "split4_test_f1_weighted                                                   0.643503\n",
    "mean_test_f1_weighted                                                     0.649558\n",
    "std_test_f1_weighted                                                      0.023434\n",
    "rank_test_f1_weighted                                                            1\n",
    "split0_test_accuracy                                                      0.700611\n",
    "split1_test_accuracy                                                      0.643585\n",
    "split2_test_accuracy                                                      0.663951\n",
    "split3_test_accuracy                                                      0.651731\n",
    "split4_test_accuracy                                                      0.659878\n",
    "mean_test_accuracy                                                        0.663951\n",
    "std_test_accuracy                                                          0.01962\n",
    "rank_test_accuracy                                                               1\n",
    "split0_test_average_precision                                             0.622592\n",
    "split1_test_average_precision                                             0.579198\n",
    "split2_test_average_precision                                             0.587247\n",
    "split3_test_average_precision                                             0.571751\n",
    "split4_test_average_precision                                             0.591173\n",
    "mean_test_average_precision                                               0.590392\n",
    "std_test_average_precision                                                0.017436\n",
    "rank_test_average_precision                                                      2\n",
    "Name: 1, dtype: object\n",
    "{'model__C': 10, 'model__class_weight': None, 'model__kernel': 'rbf'}\"\"\"\n",
    ")"
   ]
  },
  {
   "cell_type": "markdown",
   "id": "46255009",
   "metadata": {},
   "source": [
    "### Random Forest"
   ]
  },
  {
   "cell_type": "code",
   "execution_count": null,
   "id": "95225798",
   "metadata": {},
   "outputs": [],
   "source": [
    "# Train using a grid search to find the best params\n",
    "# For a random forest\n",
    "\n",
    "param_grid = {\n",
    "    \"n_estimators\": [10, 50, 100, 150, 200, 250, 300],\n",
    "    \"max_features\": list(range(2, len(X_train.columns) + 1)),\n",
    "}\n",
    "param_grid = {\"model__\" + k: v for k, v in param_grid.items()}\n",
    "pipeline_gs = Pipeline(\n",
    "    [(\"transformer\", transformer), (\"model\", RandomForestClassifier())]\n",
    ")\n",
    "print(pipeline_gs.get_params())\n",
    "\n",
    "grid_search = GridSearchCV(\n",
    "    pipeline_gs,\n",
    "    param_grid=param_grid,\n",
    "    cv=5,\n",
    "    verbose=10,\n",
    "    n_jobs=-1,\n",
    "    scoring=[\"f1_weighted\", \"accuracy\", \"average_precision\"],\n",
    "    refit=False,\n",
    ")\n",
    "grid_search.fit(X_train, y_train)"
   ]
  },
  {
   "cell_type": "code",
   "execution_count": null,
   "id": "fd73522c",
   "metadata": {},
   "outputs": [],
   "source": [
    "_ = pd.DataFrame(grid_search.cv_results_)\n",
    "print(_.columns)\n",
    "_ = _.sort_values(by=[\"mean_test_average_precision\"], ascending=False).reset_index(\n",
    "    drop=True\n",
    ")\n",
    "_.head()"
   ]
  },
  {
   "cell_type": "code",
   "execution_count": null,
   "id": "fc8a0ad4",
   "metadata": {},
   "outputs": [],
   "source": [
    "IDX = 0\n",
    "print(_.loc[IDX])\n",
    "print(_.at[IDX, \"params\"])"
   ]
  },
  {
   "cell_type": "code",
   "execution_count": null,
   "id": "1e476444",
   "metadata": {},
   "outputs": [],
   "source": [
    "print(\n",
    "    \"\"\"mean_fit_time                                                             2.428444\n",
    "std_fit_time                                                              0.049107\n",
    "mean_score_time                                                           0.080467\n",
    "std_score_time                                                            0.002905\n",
    "param_model__max_features                                                        7\n",
    "param_model__n_estimators                                                      250\n",
    "params                           {'model__max_features': 7, 'model__n_estimator...\n",
    "split0_test_f1_weighted                                                   0.672308\n",
    "split1_test_f1_weighted                                                   0.673643\n",
    "split2_test_f1_weighted                                                   0.646175\n",
    "split3_test_f1_weighted                                                   0.611159\n",
    "split4_test_f1_weighted                                                     0.6499\n",
    "mean_test_f1_weighted                                                     0.650637\n",
    "std_test_f1_weighted                                                      0.022706\n",
    "rank_test_f1_weighted                                                            1\n",
    "split0_test_accuracy                                                      0.687023\n",
    "split1_test_accuracy                                                      0.694656\n",
    "split2_test_accuracy                                                      0.671756\n",
    "split3_test_accuracy                                                      0.653944\n",
    "split4_test_accuracy                                                      0.673469\n",
    "mean_test_accuracy                                                         0.67617\n",
    "std_test_accuracy                                                         0.014002\n",
    "rank_test_accuracy                                                               2\n",
    "split0_test_average_precision                                             0.621502\n",
    "split1_test_average_precision                                             0.576277\n",
    "split2_test_average_precision                                             0.589649\n",
    "split3_test_average_precision                                             0.592778\n",
    "split4_test_average_precision                                             0.596943\n",
    "mean_test_average_precision                                                0.59543\n",
    "std_test_average_precision                                                 0.01476\n",
    "rank_test_average_precision                                                      1\n",
    "Name: 0, dtype: object\n",
    "{'model__max_features': 7, 'model__n_estimators': 250}\"\"\"\n",
    ")"
   ]
  },
  {
   "cell_type": "code",
   "execution_count": null,
   "id": "ba1ba93f",
   "metadata": {},
   "outputs": [],
   "source": [
    "# Train using a grid search to find the best params\n",
    "# For a gradientboosting model\n",
    "\n",
    "param_grid = {\n",
    "    \"n_estimators\": [10, 50, 100, 150, 200, 250, 300],\n",
    "    \"learning_rate\": [1.0, 0.5, 5],\n",
    "    \"loss\": [\"deviance\", \"exponential\"],\n",
    "}\n",
    "param_grid = {\"model__\" + k: v for k, v in param_grid.items()}\n",
    "pipeline_gs = Pipeline(\n",
    "    [(\"transformer\", transformer), (\"model\", GradientBoostingClassifier())]\n",
    ")\n",
    "print(pipeline_gs.get_params())\n",
    "\n",
    "grid_search = GridSearchCV(\n",
    "    pipeline_gs,\n",
    "    param_grid=param_grid,\n",
    "    cv=5,\n",
    "    verbose=10,\n",
    "    n_jobs=-1,\n",
    "    scoring=[\"f1_weighted\", \"accuracy\", \"average_precision\"],\n",
    "    refit=False,\n",
    ")\n",
    "grid_search.fit(X_train, y_train)"
   ]
  },
  {
   "cell_type": "code",
   "execution_count": null,
   "id": "cc652525",
   "metadata": {},
   "outputs": [],
   "source": [
    "_ = pd.DataFrame(grid_search.cv_results_)\n",
    "print(_.columns)\n",
    "_ = _.sort_values(by=[\"mean_test_average_precision\"], ascending=False).reset_index(\n",
    "    drop=True\n",
    ")\n",
    "_.head()"
   ]
  },
  {
   "cell_type": "code",
   "execution_count": null,
   "id": "fb078f89",
   "metadata": {
    "lines_to_next_cell": 2
   },
   "outputs": [],
   "source": [
    "IDX = 0\n",
    "print(_.loc[IDX])\n",
    "print(_.at[IDX, \"params\"])"
   ]
  },
  {
   "cell_type": "markdown",
   "id": "01a09ad1",
   "metadata": {},
   "source": [
    "### Final model training"
   ]
  },
  {
   "cell_type": "code",
   "execution_count": null,
   "id": "e61f98c8",
   "metadata": {},
   "outputs": [],
   "source": [
    "from sklearn.ensemble import VotingClassifier"
   ]
  },
  {
   "cell_type": "code",
   "execution_count": null,
   "id": "4900deb8",
   "metadata": {},
   "outputs": [],
   "source": [
    "model = GradientBoostingClassifier(learning_rate=0.5, n_estimators=250)\n",
    "model = SVC()\n",
    "model = VotingClassifier(\n",
    "    estimators=[\n",
    "        (\"svc\", SVC()),\n",
    "        (\"gbc\", GradientBoostingClassifier(learning_rate=0.5, n_estimators=100)),\n",
    "        (\"Random_forest\", RandomForestClassifier(n_estimators=100, max_features=7)),\n",
    "    ],\n",
    "    voting=\"hard\",\n",
    ")\n",
    "pipeline = Pipeline([(\"transformer\", transformer), (\"model\", model)], verbose=True)"
   ]
  },
  {
   "cell_type": "code",
   "execution_count": null,
   "id": "bf6928ca",
   "metadata": {},
   "outputs": [],
   "source": [
    "pipeline.fit(X_train, y_train)"
   ]
  },
  {
   "cell_type": "markdown",
   "id": "d92cd274",
   "metadata": {},
   "source": [
    "### Check on training set"
   ]
  },
  {
   "cell_type": "code",
   "execution_count": null,
   "id": "3a284795",
   "metadata": {},
   "outputs": [],
   "source": [
    "from sklearn.metrics import (\n",
    "    ConfusionMatrixDisplay,\n",
    "    classification_report,\n",
    "    confusion_matrix,\n",
    ")"
   ]
  },
  {
   "cell_type": "code",
   "execution_count": null,
   "id": "018ea735",
   "metadata": {},
   "outputs": [],
   "source": [
    "y_train_pred = pipeline.predict(X_train)\n",
    "\n",
    "print(classification_report(y_train, y_train_pred))\n",
    "\n",
    "ConfusionMatrixDisplay(confusion_matrix(y_train, y_train_pred)).plot()"
   ]
  },
  {
   "cell_type": "markdown",
   "id": "888ba03e",
   "metadata": {},
   "source": [
    "## Check on the test set"
   ]
  },
  {
   "cell_type": "code",
   "execution_count": null,
   "id": "c6787720",
   "metadata": {},
   "outputs": [],
   "source": [
    "y_test_pred = pipeline.predict(X_test)\n",
    "\n",
    "print(classification_report(y_test, y_test_pred))\n",
    "\n",
    "ConfusionMatrixDisplay(confusion_matrix(y_test, y_test_pred)).plot()"
   ]
  }
 ],
 "metadata": {
  "interpreter": {
   "hash": "ae312415ee1eab5c2782cc090c11d7944fba36b2f1ae2de894e0d9fecfb55854"
  },
  "jupytext": {
   "cell_metadata_filter": "-all",
   "main_language": "python",
   "notebook_metadata_filter": "-all",
   "text_representation": {
    "extension": ".py",
    "format_name": "light"
   }
  },
  "kernelspec": {
   "display_name": "Python 3.8.10 64-bit ('venv': venv)",
   "name": "python3"
  },
  "language_info": {
   "codemirror_mode": {
    "name": "ipython",
    "version": 3
   },
   "file_extension": ".py",
   "mimetype": "text/x-python",
   "name": "python",
   "nbconvert_exporter": "python",
   "pygments_lexer": "ipython3",
   "version": "3.8.10"
  }
 },
 "nbformat": 4,
 "nbformat_minor": 5
}
